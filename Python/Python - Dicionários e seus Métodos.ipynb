{
 "cells": [
  {
   "cell_type": "code",
   "execution_count": null,
   "metadata": {},
   "outputs": [],
   "source": [
    "#Dicionário em Python é uma coleção não ordenada de valores de dados, usada para armazenar valores de dados\n",
    "#como um mapa, que ao contrário de outros tipos de dados que mantêm apenas um único valor como um elemento,\n",
    "# o Dicionário contém chave: par de valor. O valor da chave é fornecido no dicionário para torná-lo mais otimizado.\n",
    "#Dictionary in Python is an unordered collection of data values, used to store data values like a map, \n",
    "#which unlike other Data Types that hold only single value as an element, Dictionary holds key:value pair. \n",
    "#Key value is provided in the dictionary to make it more optimized."
   ]
  },
  {
   "cell_type": "markdown",
   "metadata": {},
   "source": [
    "### Creating a Dictionary - Criando um dicionário"
   ]
  },
  {
   "cell_type": "code",
   "execution_count": null,
   "metadata": {},
   "outputs": [],
   "source": [
    "#Method 1"
   ]
  },
  {
   "cell_type": "code",
   "execution_count": 15,
   "metadata": {},
   "outputs": [
    {
     "data": {
      "text/plain": [
       "{'Chave': 'Valor', 'Chave2': 'Valor2', 'Chave3': 'Valor3'}"
      ]
     },
     "execution_count": 15,
     "metadata": {},
     "output_type": "execute_result"
    }
   ],
   "source": [
    "dic = {\"Chave\":\"Valor\",\"Chave2\":\"Valor2\",\"Chave3\":\"Valor3\"}\n",
    "\n",
    "dic"
   ]
  },
  {
   "cell_type": "code",
   "execution_count": 16,
   "metadata": {},
   "outputs": [
    {
     "data": {
      "text/plain": [
       "{'Green': 'Verde', 'Red': 'Vermelho', 'Blue': 'Azul'}"
      ]
     },
     "execution_count": 16,
     "metadata": {},
     "output_type": "execute_result"
    }
   ],
   "source": [
    "dic = {\"Green\":\"Verde\",\"Red\":\"Vermelho\",\"Blue\":\"Azul\"}\n",
    "\n",
    "dic"
   ]
  },
  {
   "cell_type": "code",
   "execution_count": null,
   "metadata": {},
   "outputs": [],
   "source": [
    "#Method 2"
   ]
  },
  {
   "cell_type": "code",
   "execution_count": 19,
   "metadata": {},
   "outputs": [
    {
     "data": {
      "text/plain": [
       "{'Chave': 'Valor', 'Chave2': 'Valor2', 'Chave3': 'Valor3'}"
      ]
     },
     "execution_count": 19,
     "metadata": {},
     "output_type": "execute_result"
    }
   ],
   "source": [
    "dic = dict(Chave=\"Valor\",Chave2=\"Valor2\",Chave3=\"Valor3\")\n",
    "\n",
    "dic"
   ]
  },
  {
   "cell_type": "code",
   "execution_count": 20,
   "metadata": {},
   "outputs": [
    {
     "data": {
      "text/plain": [
       "{'Green': 'Verde', 'Red': 'Vermelho', 'Blue': 'Azul'}"
      ]
     },
     "execution_count": 20,
     "metadata": {},
     "output_type": "execute_result"
    }
   ],
   "source": [
    "dic = dict(Green=\"Verde\",Red=\"Vermelho\",Blue=\"Azul\")\n",
    "\n",
    "dic"
   ]
  },
  {
   "cell_type": "code",
   "execution_count": null,
   "metadata": {},
   "outputs": [],
   "source": [
    "#Method 3"
   ]
  },
  {
   "cell_type": "code",
   "execution_count": 237,
   "metadata": {},
   "outputs": [
    {
     "data": {
      "text/plain": [
       "{'Chave': 'Valor', 'Chave2': 'Valor2', 'Chave3': 'Valor3'}"
      ]
     },
     "execution_count": 237,
     "metadata": {},
     "output_type": "execute_result"
    }
   ],
   "source": [
    "dic = dict([('Chave', 'Valor'), ('Chave2', 'Valor2'), ('Chave3', 'Valor3')])\n",
    "\n",
    "dic"
   ]
  },
  {
   "cell_type": "code",
   "execution_count": 238,
   "metadata": {},
   "outputs": [
    {
     "data": {
      "text/plain": [
       "{'Green': 'Verde', 'Red': 'Vermelho', 'Blue': 'Azul'}"
      ]
     },
     "execution_count": 238,
     "metadata": {},
     "output_type": "execute_result"
    }
   ],
   "source": [
    "dic = dict([('Green', 'Verde'), ('Red', 'Vermelho'), ('Blue', 'Azul')])\n",
    "\n",
    "dic"
   ]
  },
  {
   "cell_type": "code",
   "execution_count": 29,
   "metadata": {},
   "outputs": [],
   "source": [
    "#Method 4"
   ]
  },
  {
   "cell_type": "code",
   "execution_count": 35,
   "metadata": {},
   "outputs": [
    {
     "data": {
      "text/plain": [
       "{'Green': 'Verde', 'Red': 'Vermelho', 'Blue': 'Azul'}"
      ]
     },
     "execution_count": 35,
     "metadata": {},
     "output_type": "execute_result"
    }
   ],
   "source": [
    "colors = [\"Green\",\"Red\",\"Blue\"]\n",
    "cores = [\"Verde\",\"Vermelho\",\"Azul\"]\n",
    "\n",
    "dic = dict(zip(colors,cores))\n",
    "\n",
    "dic"
   ]
  },
  {
   "cell_type": "code",
   "execution_count": 36,
   "metadata": {},
   "outputs": [
    {
     "data": {
      "text/plain": [
       "{'Green': 'Verde', 'Red': 'Vermelho', 'Blue': 'Azul'}"
      ]
     },
     "execution_count": 36,
     "metadata": {},
     "output_type": "execute_result"
    }
   ],
   "source": [
    "colors = (\"Green\",\"Red\",\"Blue\")\n",
    "cores = (\"Verde\",\"Vermelho\",\"Azul\")\n",
    "\n",
    "dic = dict(zip(colors,cores))\n",
    "\n",
    "dic"
   ]
  },
  {
   "cell_type": "code",
   "execution_count": 37,
   "metadata": {},
   "outputs": [],
   "source": [
    "#Method 5"
   ]
  },
  {
   "cell_type": "code",
   "execution_count": 43,
   "metadata": {},
   "outputs": [
    {
     "data": {
      "text/plain": [
       "{'Green': 'Verde', 'Red': 'Vermelho', 'Blue': 'Azul'}"
      ]
     },
     "execution_count": 43,
     "metadata": {},
     "output_type": "execute_result"
    }
   ],
   "source": [
    "dic = dict({\"Green\": \"Verde\", \"Red\": \"Vermelho\"},Blue=\"Azul\")\n",
    "\n",
    "dic"
   ]
  },
  {
   "cell_type": "markdown",
   "metadata": {},
   "source": [
    "### Clear Method - Método clear()"
   ]
  },
  {
   "cell_type": "code",
   "execution_count": 57,
   "metadata": {},
   "outputs": [
    {
     "data": {
      "text/plain": [
       "{'Chave': 'Valor', 'Chave2': 'Valor2', 'Chave3': 'Valor3'}"
      ]
     },
     "execution_count": 57,
     "metadata": {},
     "output_type": "execute_result"
    }
   ],
   "source": [
    "#empty the dictionary\n",
    "#esvazia o dicionário\n",
    "\n",
    "dic = dict(Chave=\"Valor\",Chave2=\"Valor2\",Chave3=\"Valor3\")\n",
    "\n",
    "dic"
   ]
  },
  {
   "cell_type": "code",
   "execution_count": 58,
   "metadata": {},
   "outputs": [
    {
     "data": {
      "text/plain": [
       "{}"
      ]
     },
     "execution_count": 58,
     "metadata": {},
     "output_type": "execute_result"
    }
   ],
   "source": [
    "dic.clear()\n",
    "\n",
    "dic"
   ]
  },
  {
   "cell_type": "markdown",
   "metadata": {},
   "source": [
    "### Copy Method - Método copy()"
   ]
  },
  {
   "cell_type": "code",
   "execution_count": 70,
   "metadata": {},
   "outputs": [
    {
     "data": {
      "text/plain": [
       "{'Green': 'Verde', 'Red': 'Vermelho', 'Blue': 'Azul'}"
      ]
     },
     "execution_count": 70,
     "metadata": {},
     "output_type": "execute_result"
    }
   ],
   "source": [
    "#Makes a copy of a dictionary, which is independent of the dictionary that was copied\n",
    "#Faz uma cópia de um dicionário, que fica independente do dicionário que foi copiado\n",
    "\n",
    "dic = dict({\"Green\": \"Verde\", \"Red\": \"Vermelho\"},Blue=\"Azul\")\n",
    "\n",
    "dic"
   ]
  },
  {
   "cell_type": "code",
   "execution_count": 63,
   "metadata": {},
   "outputs": [
    {
     "data": {
      "text/plain": [
       "{'Green': 'Verde', 'Red': 'Vermelho', 'Blue': 'Azul'}"
      ]
     },
     "execution_count": 63,
     "metadata": {},
     "output_type": "execute_result"
    }
   ],
   "source": [
    "dic2 = dic.copy()\n",
    "\n",
    "dic2"
   ]
  },
  {
   "cell_type": "markdown",
   "metadata": {},
   "source": [
    "### Fromkeys Method - Método fromkeys()"
   ]
  },
  {
   "cell_type": "code",
   "execution_count": 77,
   "metadata": {},
   "outputs": [
    {
     "data": {
      "text/plain": [
       "{'Green': 'Color', 'Red': 'Color', 'Blue': 'Color'}"
      ]
     },
     "execution_count": 77,
     "metadata": {},
     "output_type": "execute_result"
    }
   ],
   "source": [
    "#Create a dictionary with diferent keys but same values\n",
    "#Cria um dicionário com chaves diferentes porém valores iguais\n",
    "\n",
    "dic  = dict.fromkeys([\"Green\",\"Red\",\"Blue\"],\"Color\")\n",
    "\n",
    "dic"
   ]
  },
  {
   "cell_type": "markdown",
   "metadata": {},
   "source": [
    "### Get Method - Método get()"
   ]
  },
  {
   "cell_type": "code",
   "execution_count": 163,
   "metadata": {},
   "outputs": [
    {
     "data": {
      "text/plain": [
       "{'Green': 'Verde', 'Red': 'Vermelho', 'Blue': 'Azul'}"
      ]
     },
     "execution_count": 163,
     "metadata": {},
     "output_type": "execute_result"
    }
   ],
   "source": [
    "#Enter Key and get value as return\n",
    "#Passamos a chave do dicionário e o método retorna o valor\n",
    "\n",
    "dic = dict(Green=\"Verde\",Red=\"Vermelho\",Blue=\"Azul\")\n",
    "\n",
    "dic"
   ]
  },
  {
   "cell_type": "code",
   "execution_count": 164,
   "metadata": {},
   "outputs": [
    {
     "data": {
      "text/plain": [
       "'Verde'"
      ]
     },
     "execution_count": 164,
     "metadata": {},
     "output_type": "execute_result"
    }
   ],
   "source": [
    "dic.get(\"Green\")"
   ]
  },
  {
   "cell_type": "code",
   "execution_count": 165,
   "metadata": {},
   "outputs": [
    {
     "data": {
      "text/plain": [
       "'Vermelho'"
      ]
     },
     "execution_count": 165,
     "metadata": {},
     "output_type": "execute_result"
    }
   ],
   "source": [
    "dic.get(\"Red\")"
   ]
  },
  {
   "cell_type": "code",
   "execution_count": 166,
   "metadata": {},
   "outputs": [
    {
     "data": {
      "text/plain": [
       "'Azul'"
      ]
     },
     "execution_count": 166,
     "metadata": {},
     "output_type": "execute_result"
    }
   ],
   "source": [
    "dic.get(\"Blue\")"
   ]
  },
  {
   "cell_type": "code",
   "execution_count": 173,
   "metadata": {},
   "outputs": [
    {
     "name": "stdout",
     "output_type": "stream",
     "text": [
      "None\n"
     ]
    }
   ],
   "source": [
    "#If u try to get some Key that doesnot exists it will return nothing \"None\"\n",
    "#Se a chave não existir o método não retorna nada \"None\"\n",
    "print(dic.get(\"Gray\"))"
   ]
  },
  {
   "cell_type": "code",
   "execution_count": 175,
   "metadata": {},
   "outputs": [
    {
     "data": {
      "text/plain": [
       "'Color not found'"
      ]
     },
     "execution_count": 175,
     "metadata": {},
     "output_type": "execute_result"
    }
   ],
   "source": [
    "#But u can just pass a default value\n",
    "#Mas vc pode passar um valor padrão de retorno\n",
    "dic.get(\"Gray\",\"Color not found\")"
   ]
  },
  {
   "cell_type": "markdown",
   "metadata": {},
   "source": [
    "### Items Method - Método items()"
   ]
  },
  {
   "cell_type": "code",
   "execution_count": 96,
   "metadata": {
    "scrolled": true
   },
   "outputs": [
    {
     "data": {
      "text/plain": [
       "dict_items([('Green', 'Verde'), ('Red', 'Vermelho'), ('Blue', 'Azul')])"
      ]
     },
     "execution_count": 96,
     "metadata": {},
     "output_type": "execute_result"
    }
   ],
   "source": [
    "#A set-like object\n",
    "#Retorna o dicinário em forma de conjuntos\n",
    "\n",
    "dic = dict(Green=\"Verde\",Red=\"Vermelho\",Blue=\"Azul\")\n",
    "\n",
    "dic.items()"
   ]
  },
  {
   "cell_type": "code",
   "execution_count": 105,
   "metadata": {},
   "outputs": [
    {
     "data": {
      "text/plain": [
       "[('Green', 'Verde'), ('Red', 'Vermelho'), ('Blue', 'Azul')]"
      ]
     },
     "execution_count": 105,
     "metadata": {},
     "output_type": "execute_result"
    }
   ],
   "source": [
    "list(dic.items())"
   ]
  },
  {
   "cell_type": "markdown",
   "metadata": {},
   "source": [
    "### Keys Method - Método keys()"
   ]
  },
  {
   "cell_type": "code",
   "execution_count": 104,
   "metadata": {},
   "outputs": [
    {
     "data": {
      "text/plain": [
       "dict_keys(['Green', 'Red', 'Blue'])"
      ]
     },
     "execution_count": 104,
     "metadata": {},
     "output_type": "execute_result"
    }
   ],
   "source": [
    "#Just return the dictionary keys\n",
    "#Retorna as chaves do dicionário\n",
    "\n",
    "dic = dict(Green=\"Verde\",Red=\"Vermelho\",Blue=\"Azul\")\n",
    "\n",
    "dic.keys()"
   ]
  },
  {
   "cell_type": "code",
   "execution_count": 235,
   "metadata": {},
   "outputs": [
    {
     "data": {
      "text/plain": [
       "['Green', 'Red', 'Blue']"
      ]
     },
     "execution_count": 235,
     "metadata": {},
     "output_type": "execute_result"
    }
   ],
   "source": [
    "#You can Just put it in a list\n",
    "list(dic.keys())"
   ]
  },
  {
   "cell_type": "markdown",
   "metadata": {},
   "source": [
    "### Pop Method - Método pop()"
   ]
  },
  {
   "cell_type": "code",
   "execution_count": 116,
   "metadata": {},
   "outputs": [
    {
     "data": {
      "text/plain": [
       "'Verde'"
      ]
     },
     "execution_count": 116,
     "metadata": {},
     "output_type": "execute_result"
    }
   ],
   "source": [
    "#pops The Key:Value from dictionary, just enter the key and return removed Value\n",
    "#Retira um item do dicionário, e retorna o valor do item removido\n",
    "\n",
    "dic = dict(Green=\"Verde\",Red=\"Vermelho\",Blue=\"Azul\")\n",
    "\n",
    "dic.pop(\"Green\")"
   ]
  },
  {
   "cell_type": "code",
   "execution_count": 117,
   "metadata": {},
   "outputs": [
    {
     "data": {
      "text/plain": [
       "{'Red': 'Vermelho', 'Blue': 'Azul'}"
      ]
     },
     "execution_count": 117,
     "metadata": {},
     "output_type": "execute_result"
    }
   ],
   "source": [
    "dic"
   ]
  },
  {
   "cell_type": "markdown",
   "metadata": {},
   "source": [
    "### Popitem Method - Método popitem()"
   ]
  },
  {
   "cell_type": "code",
   "execution_count": 161,
   "metadata": {},
   "outputs": [
    {
     "data": {
      "text/plain": [
       "{'Green': 'Verde', 'Red': 'Vermelho', 'Blue': 'Azul'}"
      ]
     },
     "execution_count": 161,
     "metadata": {},
     "output_type": "execute_result"
    }
   ],
   "source": [
    "#Pops the last item from the list and returns removed (key:value)\n",
    "#Retira o último item do dicionário e retorna a (Chave:Valor) do item removido\n",
    "\n",
    "dic = dict(Green=\"Verde\",Red=\"Vermelho\",Blue=\"Azul\")\n",
    "dic"
   ]
  },
  {
   "cell_type": "code",
   "execution_count": 162,
   "metadata": {},
   "outputs": [
    {
     "data": {
      "text/plain": [
       "('Blue', 'Azul')"
      ]
     },
     "execution_count": 162,
     "metadata": {},
     "output_type": "execute_result"
    }
   ],
   "source": [
    "dic.popitem()"
   ]
  },
  {
   "cell_type": "code",
   "execution_count": 122,
   "metadata": {},
   "outputs": [
    {
     "data": {
      "text/plain": [
       "{'Green': 'Verde', 'Red': 'Vermelho'}"
      ]
     },
     "execution_count": 122,
     "metadata": {},
     "output_type": "execute_result"
    }
   ],
   "source": [
    "dic"
   ]
  },
  {
   "cell_type": "markdown",
   "metadata": {},
   "source": [
    "### Setdefault Method - Método setdefault()"
   ]
  },
  {
   "cell_type": "code",
   "execution_count": 196,
   "metadata": {},
   "outputs": [
    {
     "data": {
      "text/plain": [
       "{'Green': 'Verde', 'Red': 'Vermelho', 'Blue': 'Azul'}"
      ]
     },
     "execution_count": 196,
     "metadata": {},
     "output_type": "execute_result"
    }
   ],
   "source": [
    "#Insert key with a value of default if key is not in the dictionary.\n",
    "#Insere um par chave:valor padrão, se a chave não estiver no dicionário.\n",
    "\n",
    "dic = dict(Green=\"Verde\",Red=\"Vermelho\",Blue=\"Azul\")\n",
    "\n",
    "dic"
   ]
  },
  {
   "cell_type": "code",
   "execution_count": 197,
   "metadata": {},
   "outputs": [
    {
     "data": {
      "text/plain": [
       "'Sem cor definida'"
      ]
     },
     "execution_count": 197,
     "metadata": {},
     "output_type": "execute_result"
    }
   ],
   "source": [
    "dic.setdefault(\"Padrao\",\"Sem cor definida\")"
   ]
  },
  {
   "cell_type": "code",
   "execution_count": 198,
   "metadata": {},
   "outputs": [
    {
     "data": {
      "text/plain": [
       "{'Green': 'Verde',\n",
       " 'Red': 'Vermelho',\n",
       " 'Blue': 'Azul',\n",
       " 'Padrao': 'Sem cor definida'}"
      ]
     },
     "execution_count": 198,
     "metadata": {},
     "output_type": "execute_result"
    }
   ],
   "source": [
    "dic"
   ]
  },
  {
   "cell_type": "markdown",
   "metadata": {},
   "source": [
    "### Update Method - Método Update()"
   ]
  },
  {
   "cell_type": "code",
   "execution_count": 223,
   "metadata": {},
   "outputs": [
    {
     "data": {
      "text/plain": [
       "{'Green': 'Verde', 'Red': 'Vermelho', 'Blue': 'Azul'}"
      ]
     },
     "execution_count": 223,
     "metadata": {},
     "output_type": "execute_result"
    }
   ],
   "source": [
    "#Inserts the specified items to the dictionary that can be a dictionary, or an iterable object with key value pairs.\n",
    "#Esse método soma dois dicionários, se as chaves forem iguais ele fica com o valor mais recente\n",
    "\n",
    "dic = dict(Green=\"Verde\",Red=\"Vermelho\",Blue=\"Azul\")\n",
    "\n",
    "dic"
   ]
  },
  {
   "cell_type": "code",
   "execution_count": 224,
   "metadata": {},
   "outputs": [
    {
     "data": {
      "text/plain": [
       "{'Green': 'Verde', 'Red': 'Vermelho', 'Blue': 'Azul', 'Gray': 'Cinza'}"
      ]
     },
     "execution_count": 224,
     "metadata": {},
     "output_type": "execute_result"
    }
   ],
   "source": [
    "#new key\n",
    "dic.update({\"Gray\":\"Cinza\"})\n",
    "\n",
    "dic"
   ]
  },
  {
   "cell_type": "code",
   "execution_count": 225,
   "metadata": {},
   "outputs": [
    {
     "data": {
      "text/plain": [
       "{'Green': 'Verdao', 'Red': 'Vermelho', 'Blue': 'Azul', 'Gray': 'Cinza'}"
      ]
     },
     "execution_count": 225,
     "metadata": {},
     "output_type": "execute_result"
    }
   ],
   "source": [
    "#updating older key:value\n",
    "dic.update({\"Green\":\"Verdao\"})\n",
    "\n",
    "dic"
   ]
  },
  {
   "cell_type": "markdown",
   "metadata": {},
   "source": [
    "### Values Method - Método values()"
   ]
  },
  {
   "cell_type": "code",
   "execution_count": 232,
   "metadata": {},
   "outputs": [
    {
     "data": {
      "text/plain": [
       "dict_values(['Verde', 'Vermelho', 'Azul'])"
      ]
     },
     "execution_count": 232,
     "metadata": {},
     "output_type": "execute_result"
    }
   ],
   "source": [
    "#Just returns the values list\n",
    "#Retorna os valores do dicionário\n",
    "dic = dict(Green=\"Verde\",Red=\"Vermelho\",Blue=\"Azul\")\n",
    "\n",
    "dic.values()"
   ]
  },
  {
   "cell_type": "code",
   "execution_count": 234,
   "metadata": {},
   "outputs": [
    {
     "data": {
      "text/plain": [
       "['Verde', 'Vermelho', 'Azul']"
      ]
     },
     "execution_count": 234,
     "metadata": {},
     "output_type": "execute_result"
    }
   ],
   "source": [
    "#U can just put in a list\n",
    "list(dic.values())"
   ]
  },
  {
   "cell_type": "code",
   "execution_count": 236,
   "metadata": {},
   "outputs": [],
   "source": [
    "#Isso é tudo pessoal, até a próxima!\n",
    "#Thats all folks, see ya!"
   ]
  },
  {
   "cell_type": "code",
   "execution_count": null,
   "metadata": {},
   "outputs": [],
   "source": [
    "#FAQ\n",
    "\n",
    "#Me adicione no linkedin\n",
    "#https://www.linkedin.com/in/rodrigo-felipe-moreira/\n",
    "\n",
    "#GitHub\n",
    "#https://github.com/rodrigopreco/devdatax\n",
    "\n",
    "#Gostei e quero te contratar!\n",
    "#https://www.devdatax.com/hire\n",
    "\n",
    "#Onde posso baixar o python?\n",
    "#Recomendo o uso do anaconda, é bem simples de instalar, segue a versão de windows:\n",
    "#https://repo.anaconda.com/archive/Anaconda3-2020.11-Windows-x86_64.exe\n",
    "\n",
    "#Outra pergunta?\n",
    "#rodrigopreco@gmail.com\n",
    "#rodrigo.moreira@powerofdata.com.br"
   ]
  },
  {
   "cell_type": "code",
   "execution_count": null,
   "metadata": {},
   "outputs": [],
   "source": []
  },
  {
   "cell_type": "code",
   "execution_count": null,
   "metadata": {},
   "outputs": [],
   "source": []
  }
 ],
 "metadata": {
  "kernelspec": {
   "display_name": "Python 3",
   "language": "python",
   "name": "python3"
  },
  "language_info": {
   "codemirror_mode": {
    "name": "ipython",
    "version": 3
   },
   "file_extension": ".py",
   "mimetype": "text/x-python",
   "name": "python",
   "nbconvert_exporter": "python",
   "pygments_lexer": "ipython3",
   "version": "3.7.4"
  }
 },
 "nbformat": 4,
 "nbformat_minor": 2
}
