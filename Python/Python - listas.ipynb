{
 "cells": [
  {
   "cell_type": "code",
   "execution_count": 1,
   "metadata": {},
   "outputs": [],
   "source": [
    "#Listas em Python\n",
    "\n",
    "#Uma lista é uma estrutura de dados em Python que é uma sequência ordenada de elementos mutável ou mutável. \n",
    "#Cada elemento ou valor que está dentro de uma lista é chamado de item.\n",
    "\n",
    "#Para definir uma lista basta utilizarmos []"
   ]
  },
  {
   "cell_type": "code",
   "execution_count": 2,
   "metadata": {},
   "outputs": [],
   "source": [
    "lista = [\"GradientBoosting\",\"RandomForest\",\"SVM\",\"XGBoost\",\"RotationForest\"]"
   ]
  },
  {
   "cell_type": "code",
   "execution_count": 3,
   "metadata": {},
   "outputs": [],
   "source": [
    "#Para acessarmos os itens de uma lista basta utilizar o index relativo a cada item da lista, por exemplo:"
   ]
  },
  {
   "cell_type": "code",
   "execution_count": 4,
   "metadata": {},
   "outputs": [
    {
     "data": {
      "text/plain": [
       "'GradientBoosting'"
      ]
     },
     "execution_count": 4,
     "metadata": {},
     "output_type": "execute_result"
    }
   ],
   "source": [
    "#O item 0 da lista seria\n",
    "lista[0]"
   ]
  },
  {
   "cell_type": "code",
   "execution_count": 5,
   "metadata": {},
   "outputs": [
    {
     "data": {
      "text/plain": [
       "'RandomForest'"
      ]
     },
     "execution_count": 5,
     "metadata": {},
     "output_type": "execute_result"
    }
   ],
   "source": [
    "#O item 1 da lista seria\n",
    "lista[1]"
   ]
  },
  {
   "cell_type": "code",
   "execution_count": 6,
   "metadata": {},
   "outputs": [],
   "source": [
    "###MÉTODO INDEX\n",
    "#Devolve a posição de um item dentro da lista, em que posição está o elemento \"XGBoost\"?"
   ]
  },
  {
   "cell_type": "code",
   "execution_count": 7,
   "metadata": {},
   "outputs": [
    {
     "data": {
      "text/plain": [
       "3"
      ]
     },
     "execution_count": 7,
     "metadata": {},
     "output_type": "execute_result"
    }
   ],
   "source": [
    "lista.index(\"XGBoost\")"
   ]
  },
  {
   "cell_type": "code",
   "execution_count": 8,
   "metadata": {},
   "outputs": [
    {
     "data": {
      "text/plain": [
       "'XGBoost'"
      ]
     },
     "execution_count": 8,
     "metadata": {},
     "output_type": "execute_result"
    }
   ],
   "source": [
    "lista[3]"
   ]
  },
  {
   "cell_type": "code",
   "execution_count": 9,
   "metadata": {},
   "outputs": [
    {
     "name": "stdout",
     "output_type": "stream",
     "text": [
      "ValueError: list.remove(x): x not in list exception.\n"
     ]
    }
   ],
   "source": [
    "#se o elemento não estiver na lista ele devolve um erro!\n",
    "print(\"ValueError: list.remove(x): x not in list exception.\")"
   ]
  },
  {
   "cell_type": "code",
   "execution_count": 10,
   "metadata": {},
   "outputs": [],
   "source": [
    "###MÉTODO APPEND\n",
    "#Adiciona um novo item a uma lista, este item pode ser um elemento, lista, dicionario, etc.."
   ]
  },
  {
   "cell_type": "code",
   "execution_count": 11,
   "metadata": {},
   "outputs": [],
   "source": [
    "lista = [\"GradientBoosting\",\"RandomForest\",\"SVM\",\"XGBoost\",\"RotationForest\"]"
   ]
  },
  {
   "cell_type": "code",
   "execution_count": 12,
   "metadata": {},
   "outputs": [],
   "source": [
    "lista.append(\"NaiveBayes\")"
   ]
  },
  {
   "cell_type": "code",
   "execution_count": 13,
   "metadata": {},
   "outputs": [
    {
     "data": {
      "text/plain": [
       "['GradientBoosting',\n",
       " 'RandomForest',\n",
       " 'SVM',\n",
       " 'XGBoost',\n",
       " 'RotationForest',\n",
       " 'NaiveBayes']"
      ]
     },
     "execution_count": 13,
     "metadata": {},
     "output_type": "execute_result"
    }
   ],
   "source": [
    "lista"
   ]
  },
  {
   "cell_type": "code",
   "execution_count": 14,
   "metadata": {},
   "outputs": [],
   "source": [
    "#append de uma lista!\n",
    "lista.append([\"ConvolutionalNeuralNetworks\",\"Perceptron\"])"
   ]
  },
  {
   "cell_type": "code",
   "execution_count": 15,
   "metadata": {},
   "outputs": [
    {
     "data": {
      "text/plain": [
       "['GradientBoosting',\n",
       " 'RandomForest',\n",
       " 'SVM',\n",
       " 'XGBoost',\n",
       " 'RotationForest',\n",
       " 'NaiveBayes',\n",
       " ['ConvolutionalNeuralNetworks', 'Perceptron']]"
      ]
     },
     "execution_count": 15,
     "metadata": {},
     "output_type": "execute_result"
    }
   ],
   "source": [
    "lista"
   ]
  },
  {
   "cell_type": "code",
   "execution_count": 16,
   "metadata": {},
   "outputs": [],
   "source": [
    "#append em uma tupla!\n",
    "lista.append((\"LogisticRegression\",\"AdaBoost\"))"
   ]
  },
  {
   "cell_type": "code",
   "execution_count": 17,
   "metadata": {},
   "outputs": [
    {
     "data": {
      "text/plain": [
       "['GradientBoosting',\n",
       " 'RandomForest',\n",
       " 'SVM',\n",
       " 'XGBoost',\n",
       " 'RotationForest',\n",
       " 'NaiveBayes',\n",
       " ['ConvolutionalNeuralNetworks', 'Perceptron'],\n",
       " ('LogisticRegression', 'AdaBoost')]"
      ]
     },
     "execution_count": 17,
     "metadata": {},
     "output_type": "execute_result"
    }
   ],
   "source": [
    "lista"
   ]
  },
  {
   "cell_type": "code",
   "execution_count": 18,
   "metadata": {},
   "outputs": [],
   "source": [
    "###MÉTODO EXTEND\n",
    "#Modifica a lista, adicionando elementos, listas, tuplas etc.."
   ]
  },
  {
   "cell_type": "code",
   "execution_count": 19,
   "metadata": {},
   "outputs": [],
   "source": [
    "lista = [\"GradientBoosting\",\"RandomForest\",\"SVM\",\"XGBoost\",\"RotationForest\"]"
   ]
  },
  {
   "cell_type": "code",
   "execution_count": 20,
   "metadata": {},
   "outputs": [],
   "source": [
    "#adicionando outra lista [] \n",
    "lista.extend([\"ConvolutionalNeuralNetworks\",\"Perceptron\"])"
   ]
  },
  {
   "cell_type": "code",
   "execution_count": 21,
   "metadata": {},
   "outputs": [
    {
     "data": {
      "text/plain": [
       "['GradientBoosting',\n",
       " 'RandomForest',\n",
       " 'SVM',\n",
       " 'XGBoost',\n",
       " 'RotationForest',\n",
       " 'ConvolutionalNeuralNetworks',\n",
       " 'Perceptron']"
      ]
     },
     "execution_count": 21,
     "metadata": {},
     "output_type": "execute_result"
    }
   ],
   "source": [
    "lista"
   ]
  },
  {
   "cell_type": "code",
   "execution_count": 22,
   "metadata": {},
   "outputs": [],
   "source": [
    "#adicionando uma tupla ()\n",
    "lista.extend((\"LogisticRegression\",\"AdaBoost\"))"
   ]
  },
  {
   "cell_type": "code",
   "execution_count": 23,
   "metadata": {},
   "outputs": [
    {
     "data": {
      "text/plain": [
       "['GradientBoosting',\n",
       " 'RandomForest',\n",
       " 'SVM',\n",
       " 'XGBoost',\n",
       " 'RotationForest',\n",
       " 'ConvolutionalNeuralNetworks',\n",
       " 'Perceptron',\n",
       " 'LogisticRegression',\n",
       " 'AdaBoost']"
      ]
     },
     "execution_count": 23,
     "metadata": {},
     "output_type": "execute_result"
    }
   ],
   "source": [
    "lista"
   ]
  },
  {
   "cell_type": "code",
   "execution_count": 24,
   "metadata": {},
   "outputs": [],
   "source": [
    "#Note que este método é diferente do append, pois ele cria a mesma quantidade de elementos que ele recebe, e não apenas\n",
    "#um elemento como no append, se tentarmos colocar uma string no argumento olha como fica!\n",
    "lista.extend(\"string\")"
   ]
  },
  {
   "cell_type": "code",
   "execution_count": 25,
   "metadata": {},
   "outputs": [
    {
     "data": {
      "text/plain": [
       "['GradientBoosting',\n",
       " 'RandomForest',\n",
       " 'SVM',\n",
       " 'XGBoost',\n",
       " 'RotationForest',\n",
       " 'ConvolutionalNeuralNetworks',\n",
       " 'Perceptron',\n",
       " 'LogisticRegression',\n",
       " 'AdaBoost',\n",
       " 's',\n",
       " 't',\n",
       " 'r',\n",
       " 'i',\n",
       " 'n',\n",
       " 'g']"
      ]
     },
     "execution_count": 25,
     "metadata": {},
     "output_type": "execute_result"
    }
   ],
   "source": [
    "lista"
   ]
  },
  {
   "cell_type": "code",
   "execution_count": 26,
   "metadata": {},
   "outputs": [],
   "source": [
    "###MÉTODO INSERT\n",
    "#Insere um item em um index específico da lista"
   ]
  },
  {
   "cell_type": "code",
   "execution_count": 27,
   "metadata": {},
   "outputs": [],
   "source": [
    "lista = [\"GradientBoosting\",\"RandomForest\",\"SVM\",\"XGBoost\",\"RotationForest\"]"
   ]
  },
  {
   "cell_type": "code",
   "execution_count": 28,
   "metadata": {},
   "outputs": [],
   "source": [
    "#Inserindo o NaiveBayes no início da lista\n",
    "lista.insert(0,\"NaiveBayes\")"
   ]
  },
  {
   "cell_type": "code",
   "execution_count": 29,
   "metadata": {},
   "outputs": [
    {
     "data": {
      "text/plain": [
       "['NaiveBayes',\n",
       " 'GradientBoosting',\n",
       " 'RandomForest',\n",
       " 'SVM',\n",
       " 'XGBoost',\n",
       " 'RotationForest']"
      ]
     },
     "execution_count": 29,
     "metadata": {},
     "output_type": "execute_result"
    }
   ],
   "source": [
    "lista"
   ]
  },
  {
   "cell_type": "code",
   "execution_count": 30,
   "metadata": {},
   "outputs": [],
   "source": [
    "#Inserindo o uma lista no index 3 da lista\n",
    "lista.insert(3,[\"ConvolutionalNeuralNetworks\",\"Perceptron\"])"
   ]
  },
  {
   "cell_type": "code",
   "execution_count": 31,
   "metadata": {},
   "outputs": [
    {
     "data": {
      "text/plain": [
       "['NaiveBayes',\n",
       " 'GradientBoosting',\n",
       " 'RandomForest',\n",
       " ['ConvolutionalNeuralNetworks', 'Perceptron'],\n",
       " 'SVM',\n",
       " 'XGBoost',\n",
       " 'RotationForest']"
      ]
     },
     "execution_count": 31,
     "metadata": {},
     "output_type": "execute_result"
    }
   ],
   "source": [
    "lista"
   ]
  },
  {
   "cell_type": "code",
   "execution_count": 32,
   "metadata": {},
   "outputs": [],
   "source": [
    "#Note que ele funciona parecido com o append, porém você pode escolher o local exato de inserção do item!"
   ]
  },
  {
   "cell_type": "code",
   "execution_count": 33,
   "metadata": {},
   "outputs": [],
   "source": [
    "###MÉTODO REMOVE\n",
    "#Encontra e remove a primeira vez que um elemento aparece em uma lista, se estiver duplicado apenas um é removido."
   ]
  },
  {
   "cell_type": "code",
   "execution_count": 34,
   "metadata": {},
   "outputs": [],
   "source": [
    "lista = [\"GradientBoosting\",\"RandomForest\",\"SVM\",\"XGBoost\",\"RotationForest\"]"
   ]
  },
  {
   "cell_type": "code",
   "execution_count": 35,
   "metadata": {},
   "outputs": [],
   "source": [
    "lista.remove(\"GradientBoosting\")"
   ]
  },
  {
   "cell_type": "code",
   "execution_count": 36,
   "metadata": {},
   "outputs": [
    {
     "data": {
      "text/plain": [
       "['RandomForest', 'SVM', 'XGBoost', 'RotationForest']"
      ]
     },
     "execution_count": 36,
     "metadata": {},
     "output_type": "execute_result"
    }
   ],
   "source": [
    "lista"
   ]
  },
  {
   "cell_type": "code",
   "execution_count": 37,
   "metadata": {},
   "outputs": [
    {
     "name": "stdout",
     "output_type": "stream",
     "text": [
      "ValueError: list.remove(x): x not in list\n"
     ]
    }
   ],
   "source": [
    "#Caso o elemento não esteja na lista ele devolve um erro!\n",
    "print(\"ValueError: list.remove(x): x not in list\")"
   ]
  },
  {
   "cell_type": "code",
   "execution_count": 38,
   "metadata": {},
   "outputs": [],
   "source": [
    "###MÉTODO COUNT\n",
    "#Conta quantas vezes o elemento aparece na lista:"
   ]
  },
  {
   "cell_type": "code",
   "execution_count": 39,
   "metadata": {},
   "outputs": [],
   "source": [
    "lista = [\"GradientBoosting\",\"RandomForest\",\"SVM\",\"XGBoost\",\"RotationForest\",\"RotationForest\"]"
   ]
  },
  {
   "cell_type": "code",
   "execution_count": 40,
   "metadata": {},
   "outputs": [
    {
     "data": {
      "text/plain": [
       "1"
      ]
     },
     "execution_count": 40,
     "metadata": {},
     "output_type": "execute_result"
    }
   ],
   "source": [
    "lista.count(\"GradientBoosting\")"
   ]
  },
  {
   "cell_type": "code",
   "execution_count": 41,
   "metadata": {},
   "outputs": [
    {
     "data": {
      "text/plain": [
       "2"
      ]
     },
     "execution_count": 41,
     "metadata": {},
     "output_type": "execute_result"
    }
   ],
   "source": [
    "lista.count(\"RotationForest\")"
   ]
  },
  {
   "cell_type": "code",
   "execution_count": 42,
   "metadata": {},
   "outputs": [],
   "source": [
    "###MÉTODO POP\n",
    "#Remove o elemento pelo index e retorna o nome desse elemento. Se quisermos retirar o index 1 da lista:"
   ]
  },
  {
   "cell_type": "code",
   "execution_count": 43,
   "metadata": {},
   "outputs": [],
   "source": [
    "lista = [\"GradientBoosting\",\"RandomForest\",\"SVM\",\"XGBoost\",\"RotationForest\"]"
   ]
  },
  {
   "cell_type": "code",
   "execution_count": 44,
   "metadata": {},
   "outputs": [
    {
     "data": {
      "text/plain": [
       "'RandomForest'"
      ]
     },
     "execution_count": 44,
     "metadata": {},
     "output_type": "execute_result"
    }
   ],
   "source": [
    "lista.pop(1)"
   ]
  },
  {
   "cell_type": "code",
   "execution_count": 45,
   "metadata": {},
   "outputs": [
    {
     "data": {
      "text/plain": [
       "['GradientBoosting', 'SVM', 'XGBoost', 'RotationForest']"
      ]
     },
     "execution_count": 45,
     "metadata": {},
     "output_type": "execute_result"
    }
   ],
   "source": [
    "lista"
   ]
  },
  {
   "cell_type": "code",
   "execution_count": 46,
   "metadata": {},
   "outputs": [
    {
     "data": {
      "text/plain": [
       "'RotationForest'"
      ]
     },
     "execution_count": 46,
     "metadata": {},
     "output_type": "execute_result"
    }
   ],
   "source": [
    "#Se quisermos retirar o último elemento da lista\n",
    "lista.pop(-1)"
   ]
  },
  {
   "cell_type": "code",
   "execution_count": 47,
   "metadata": {},
   "outputs": [
    {
     "data": {
      "text/plain": [
       "['GradientBoosting', 'SVM', 'XGBoost']"
      ]
     },
     "execution_count": 47,
     "metadata": {},
     "output_type": "execute_result"
    }
   ],
   "source": [
    "lista"
   ]
  },
  {
   "cell_type": "code",
   "execution_count": 48,
   "metadata": {},
   "outputs": [],
   "source": [
    "###MÉTODO REVERSE\n",
    "#Deixa a lista de trás pra frente"
   ]
  },
  {
   "cell_type": "code",
   "execution_count": 49,
   "metadata": {},
   "outputs": [],
   "source": [
    "lista = [\"GradientBoosting\",\"RandomForest\",\"SVM\",\"XGBoost\",\"RotationForest\"]"
   ]
  },
  {
   "cell_type": "code",
   "execution_count": 50,
   "metadata": {},
   "outputs": [],
   "source": [
    "lista.reverse()"
   ]
  },
  {
   "cell_type": "code",
   "execution_count": 51,
   "metadata": {},
   "outputs": [
    {
     "data": {
      "text/plain": [
       "['RotationForest', 'XGBoost', 'SVM', 'RandomForest', 'GradientBoosting']"
      ]
     },
     "execution_count": 51,
     "metadata": {},
     "output_type": "execute_result"
    }
   ],
   "source": [
    "lista"
   ]
  },
  {
   "cell_type": "code",
   "execution_count": 52,
   "metadata": {},
   "outputs": [],
   "source": [
    "####MÉTODO SORT\n",
    "#Coloca os elementos da lista em ordem alfabética"
   ]
  },
  {
   "cell_type": "code",
   "execution_count": 53,
   "metadata": {},
   "outputs": [],
   "source": [
    "lista = [\"GradientBoosting\",\"RandomForest\",\"SVM\",\"XGBoost\",\"RotationForest\"]"
   ]
  },
  {
   "cell_type": "code",
   "execution_count": 54,
   "metadata": {},
   "outputs": [],
   "source": [
    "lista.sort(reverse=False)"
   ]
  },
  {
   "cell_type": "code",
   "execution_count": 55,
   "metadata": {},
   "outputs": [
    {
     "data": {
      "text/plain": [
       "['GradientBoosting', 'RandomForest', 'RotationForest', 'SVM', 'XGBoost']"
      ]
     },
     "execution_count": 55,
     "metadata": {},
     "output_type": "execute_result"
    }
   ],
   "source": [
    "lista"
   ]
  },
  {
   "cell_type": "code",
   "execution_count": 56,
   "metadata": {},
   "outputs": [],
   "source": [
    "lista.sort(reverse=True)"
   ]
  },
  {
   "cell_type": "code",
   "execution_count": 57,
   "metadata": {},
   "outputs": [
    {
     "data": {
      "text/plain": [
       "['XGBoost', 'SVM', 'RotationForest', 'RandomForest', 'GradientBoosting']"
      ]
     },
     "execution_count": 57,
     "metadata": {},
     "output_type": "execute_result"
    }
   ],
   "source": [
    "lista"
   ]
  },
  {
   "cell_type": "code",
   "execution_count": 58,
   "metadata": {},
   "outputs": [],
   "source": [
    "###MÉTODO COPY\n",
    "#Copia uma lista em um outro lugar da memória de maneira que as listas possam ser modificadas independentemente,\n",
    "#se fizermos lista2 = lista, essas listas remetem a mesma alocação de memória e se uma for modificada, \n",
    "#a outra também sofre a modeificação"
   ]
  },
  {
   "cell_type": "code",
   "execution_count": 59,
   "metadata": {},
   "outputs": [],
   "source": [
    "lista = [\"GradientBoosting\",\"RandomForest\",\"SVM\",\"XGBoost\",\"RotationForest\"]"
   ]
  },
  {
   "cell_type": "code",
   "execution_count": 60,
   "metadata": {},
   "outputs": [],
   "source": [
    "lista2 = lista.copy()"
   ]
  },
  {
   "cell_type": "code",
   "execution_count": 61,
   "metadata": {},
   "outputs": [
    {
     "data": {
      "text/plain": [
       "['GradientBoosting', 'RandomForest', 'SVM', 'XGBoost', 'RotationForest']"
      ]
     },
     "execution_count": 61,
     "metadata": {},
     "output_type": "execute_result"
    }
   ],
   "source": [
    "lista2"
   ]
  },
  {
   "cell_type": "code",
   "execution_count": 62,
   "metadata": {},
   "outputs": [],
   "source": [
    "###MÉTODO CLEAR\n",
    "#Limpa a lista, tornando-a vazia"
   ]
  },
  {
   "cell_type": "code",
   "execution_count": 63,
   "metadata": {},
   "outputs": [],
   "source": [
    "lista = [\"GradientBoosting\",\"RandomForest\",\"SVM\",\"XGBoost\",\"RotationForest\"]"
   ]
  },
  {
   "cell_type": "code",
   "execution_count": 64,
   "metadata": {},
   "outputs": [],
   "source": [
    "lista.clear()"
   ]
  },
  {
   "cell_type": "code",
   "execution_count": 65,
   "metadata": {},
   "outputs": [
    {
     "data": {
      "text/plain": [
       "[]"
      ]
     },
     "execution_count": 65,
     "metadata": {},
     "output_type": "execute_result"
    }
   ],
   "source": [
    "lista"
   ]
  },
  {
   "cell_type": "code",
   "execution_count": null,
   "metadata": {},
   "outputs": [],
   "source": []
  }
 ],
 "metadata": {
  "kernelspec": {
   "display_name": "Python 3",
   "language": "python",
   "name": "python3"
  },
  "language_info": {
   "codemirror_mode": {
    "name": "ipython",
    "version": 3
   },
   "file_extension": ".py",
   "mimetype": "text/x-python",
   "name": "python",
   "nbconvert_exporter": "python",
   "pygments_lexer": "ipython3",
   "version": "3.7.4"
  }
 },
 "nbformat": 4,
 "nbformat_minor": 2
}
